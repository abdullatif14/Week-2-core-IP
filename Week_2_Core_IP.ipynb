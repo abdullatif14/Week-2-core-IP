{
  "nbformat": 4,
  "nbformat_minor": 0,
  "metadata": {
    "colab": {
      "name": "Week 2 Core IP",
      "provenance": [],
      "collapsed_sections": [],
      "toc_visible": true,
      "authorship_tag": "ABX9TyO1coWeTeR7VukTwnmsQGQ0",
      "include_colab_link": true
    },
    "kernelspec": {
      "name": "python3",
      "display_name": "Python 3"
    }
  },
  "cells": [
    {
      "cell_type": "markdown",
      "metadata": {
        "id": "view-in-github",
        "colab_type": "text"
      },
      "source": [
        "<a href=\"https://colab.research.google.com/github/abdullatif14/Week-2-core-IP/blob/main/Week_2_Core_IP.ipynb\" target=\"_parent\"><img src=\"https://colab.research.google.com/assets/colab-badge.svg\" alt=\"Open In Colab\"/></a>"
      ]
    },
    {
      "cell_type": "markdown",
      "metadata": {
        "id": "nE3hgpZrbgVr"
      },
      "source": [
        "# EXPLORATORY DATA ANALYSIS: IP\r\n"
      ]
    },
    {
      "cell_type": "markdown",
      "metadata": {
        "id": "3fCJ6JO1cROq"
      },
      "source": [
        "##1.Defining the Question"
      ]
    },
    {
      "cell_type": "markdown",
      "metadata": {
        "id": "QfcKSEQUgM0C"
      },
      "source": [
        "##(a)Specifying the question"
      ]
    },
    {
      "cell_type": "markdown",
      "metadata": {
        "id": "JjLYvLIoc5-E"
      },
      "source": [
        "Which individuals are most likely to have access or use a bank account"
      ]
    },
    {
      "cell_type": "markdown",
      "metadata": {
        "id": "oShNuxVSfxjx"
      },
      "source": [
        "##(b) Defining the metrix for success"
      ]
    },
    {
      "cell_type": "markdown",
      "metadata": {
        "id": "evbDURDjggLX"
      },
      "source": [
        "The dataset did not contain any external documentation for the analysis.\r\n",
        "However it's believed to be above 90% accurate.\r\n",
        "\r\n"
      ]
    },
    {
      "cell_type": "markdown",
      "metadata": {
        "id": "TJNS5hZohhcK"
      },
      "source": [
        "##(c)Understanding the context"
      ]
    },
    {
      "cell_type": "markdown",
      "metadata": {
        "id": "Heygra9chthr"
      },
      "source": [
        "Financial Inclusion remains one of the main obstacles to economic and human development in Africa. For example, across Kenya, Rwanda, Tanzania, and Uganda only 9.1 million adults (or 13.9% of the adult population) have access to or use a commercial bank account."
      ]
    },
    {
      "cell_type": "markdown",
      "metadata": {
        "id": "_TFDjQlah4n_"
      },
      "source": [
        "##(d) Recording the experimental design"
      ]
    },
    {
      "cell_type": "markdown",
      "metadata": {
        "id": "6Ls38dSdiDOD"
      },
      "source": [
        "I used the standard methodology and procedure (CRISP-DM) to conduct the analysis.\r\n",
        "\r\n",
        "1)Business Understanding.\r\n",
        "2)Data understanding.\r\n",
        "3)Data Preparation\r\n",
        "4)Modelling\r\n",
        "5)Evaluation\r\n",
        "6)Deployment"
      ]
    },
    {
      "cell_type": "markdown",
      "metadata": {
        "id": "KDdU1BVaitkz"
      },
      "source": [
        "##(e)Data Relevance"
      ]
    },
    {
      "cell_type": "markdown",
      "metadata": {
        "id": "_SMfDSyBoOeM"
      },
      "source": [
        "The data provided was conisistent and sufficient to answer all our areas of interest."
      ]
    },
    {
      "cell_type": "markdown",
      "metadata": {
        "id": "3Qcng3UYpYAB"
      },
      "source": [
        "##2.Reading the Data"
      ]
    },
    {
      "cell_type": "code",
      "metadata": {
        "id": "rhdky7HPoRg9"
      },
      "source": [
        "import pandas as pd\r\n",
        "import numpy as np\r\n",
        "import seaborn as sns\r\n",
        "import matplotlib.pyplot as plt\r\n",
        "\r\n",
        "\r\n",
        "#Loading the Data as a CSV file\r\n",
        "# url = http://bit.ly/FinancialDataset \r\n",
        "# url =  http://bit.ly/VariableDefinitions \r\n",
        "\r\n",
        "# Some of the Attributes that we will need:-\r\n",
        "# country\r\n",
        "# Has a bank account\r\n",
        "# type of location\r\n",
        "# Gender\r\n",
        "# Type of job\r\n",
        "\r\n",
        "df = pd.read_csv('http://bit.ly/FinancialDataset ')\r\n",
        "df.head()\r\n"
      ],
      "execution_count": null,
      "outputs": []
    },
    {
      "cell_type": "markdown",
      "metadata": {
        "id": "IkQ7b8LhuDop"
      },
      "source": [
        "##3.Checking the Data"
      ]
    },
    {
      "cell_type": "code",
      "metadata": {
        "id": "WwpyF9FYtcm9"
      },
      "source": [
        "#Determining the no of records in our Dataset\r\n",
        "df.shape"
      ],
      "execution_count": null,
      "outputs": []
    },
    {
      "cell_type": "code",
      "metadata": {
        "id": "PJExkUa0uscB"
      },
      "source": [
        "# Preview the top part of our Dataset\r\n",
        "df.head()"
      ],
      "execution_count": null,
      "outputs": []
    },
    {
      "cell_type": "code",
      "metadata": {
        "id": "vvK3KiwHvSwl"
      },
      "source": [
        "# previewing the bottom part of our dataset\r\n",
        "df.tail()"
      ],
      "execution_count": null,
      "outputs": []
    },
    {
      "cell_type": "code",
      "metadata": {
        "id": "VnNpm6PRv2C1"
      },
      "source": [
        "# checking for datatypes\r\n",
        "df.dtypes"
      ],
      "execution_count": null,
      "outputs": []
    },
    {
      "cell_type": "markdown",
      "metadata": {
        "id": "8cAdhR1jwnKF"
      },
      "source": [
        "##4.Tidying the data"
      ]
    },
    {
      "cell_type": "code",
      "metadata": {
        "id": "ve4R1FXDwA1P"
      },
      "source": [
        "#checking for outliers\r\n",
        "fig, ((ax1, ax2)) = plt.subplots(2, figsize=(10, 7))\r\n",
        "fig.suptitle('Boxplots')\r\n",
        "sns.boxplot(df['household_size'], ax=ax1)\r\n",
        "sns.boxplot(df['Respondent_Age'], ax=ax2)\r\n",
        "\r\n",
        "plt.show()\r\n",
        "\r\n"
      ],
      "execution_count": null,
      "outputs": []
    },
    {
      "cell_type": "code",
      "metadata": {
        "id": "E5fQfBODzdVM"
      },
      "source": [
        "#identify the missing data\r\n",
        "\r\n",
        "df.isnull().any()"
      ],
      "execution_count": null,
      "outputs": []
    },
    {
      "cell_type": "code",
      "metadata": {
        "id": "C39WapQJzoEl"
      },
      "source": [
        "#dealing with the missing data\r\n",
        "\r\n",
        "df.isnull().sum()\r\n",
        "df.dropna"
      ],
      "execution_count": null,
      "outputs": []
    },
    {
      "cell_type": "code",
      "metadata": {
        "id": "natiUwr4zvHl"
      },
      "source": [
        "#more data cleaning procedures\r\n",
        "\r\n",
        "df.info()"
      ],
      "execution_count": null,
      "outputs": []
    },
    {
      "cell_type": "code",
      "metadata": {
        "id": "QdVVPwjlsCyT"
      },
      "source": [
        "df.columns = df.columns.str.replace(' ', '_')\r\n",
        "print(df.columns)"
      ],
      "execution_count": null,
      "outputs": []
    },
    {
      "cell_type": "markdown",
      "metadata": {
        "id": "0_00xkHV0U_O"
      },
      "source": [
        "##5.Exploratory Analysis"
      ]
    },
    {
      "cell_type": "markdown",
      "metadata": {
        "id": "ZPwyYe4QYNb_"
      },
      "source": [
        "###univariate analysis"
      ]
    },
    {
      "cell_type": "code",
      "metadata": {
        "id": "Tb8Vqq-wXuj0"
      },
      "source": [
        "# drawing a bar for gender and has a bank account\r\n",
        "\r\n",
        "df.columns\r\n"
      ],
      "execution_count": null,
      "outputs": []
    },
    {
      "cell_type": "code",
      "metadata": {
        "id": "pth5Q1yRrrEo"
      },
      "source": [
        "df.Has_a_Bank_account.value_counts()"
      ],
      "execution_count": null,
      "outputs": []
    },
    {
      "cell_type": "code",
      "metadata": {
        "id": "CeBOh9gysxZP"
      },
      "source": [
        "#plot a chart to demonstrate\r\n",
        "# Assigning our columns to those with bank accounts\r\n",
        "Has_a_Bank_account = df['Has_a_Bank_account']\r\n",
        "country      = df['country']\r\n",
        "\r\n",
        "# Plotting our pie chart\r\n",
        "# -------\r\n",
        "plt.pie(Has_a_Bank_account, labels = country, autopct = '%1.1f%%', shadow = True, startangle = 140)\r\n",
        "plt.axis('equal')\r\n",
        "plt.title('Bank account')\r\n",
        "plt.show()"
      ],
      "execution_count": null,
      "outputs": []
    },
    {
      "cell_type": "markdown",
      "metadata": {
        "id": "67F78CUxPpVS"
      },
      "source": [
        "Measure of Central Tendency"
      ]
    },
    {
      "cell_type": "markdown",
      "metadata": {
        "id": "xHvDyLFfTZmp"
      },
      "source": [
        "mean\r\n"
      ]
    },
    {
      "cell_type": "code",
      "metadata": {
        "id": "5mdARbzW0bzh"
      },
      "source": [
        "\r\n",
        "#we will start by finding the mean of the Respondant Age \r\n",
        "\r\n",
        "df['Respondent_Age'].mean()"
      ],
      "execution_count": null,
      "outputs": []
    },
    {
      "cell_type": "code",
      "metadata": {
        "id": "bJV-I3C4P9le"
      },
      "source": [
        "#finding the mean of household size\r\n",
        "df['household_size'].mean()"
      ],
      "execution_count": null,
      "outputs": []
    },
    {
      "cell_type": "markdown",
      "metadata": {
        "id": "R4aVM-GcTcfu"
      },
      "source": [
        "median"
      ]
    },
    {
      "cell_type": "code",
      "metadata": {
        "id": "dzWbCXaxQzVh"
      },
      "source": [
        "#Finding the median household\r\n",
        "df['household_size'].median()"
      ],
      "execution_count": null,
      "outputs": []
    },
    {
      "cell_type": "code",
      "metadata": {
        "id": "Qs3lNtOARyaw"
      },
      "source": [
        "#finding the median respondant\r\n",
        "df['Respondent_Age'].median()"
      ],
      "execution_count": null,
      "outputs": []
    },
    {
      "cell_type": "markdown",
      "metadata": {
        "id": "jiLUGfOLTfja"
      },
      "source": [
        "mode"
      ]
    },
    {
      "cell_type": "code",
      "metadata": {
        "id": "YEIsGaUCTOP9"
      },
      "source": [
        "df['household_size'].mode()"
      ],
      "execution_count": null,
      "outputs": []
    },
    {
      "cell_type": "code",
      "metadata": {
        "id": "aJHC7SAoTlNX"
      },
      "source": [
        "df['Respondent_Age'].mode()"
      ],
      "execution_count": null,
      "outputs": []
    },
    {
      "cell_type": "markdown",
      "metadata": {
        "id": "85PoiK8xUXyV"
      },
      "source": [
        "Standard Deviation"
      ]
    },
    {
      "cell_type": "code",
      "metadata": {
        "id": "1BhLZxIoUSF5"
      },
      "source": [
        "#finding the std dev of both respondant age and Household size\r\n",
        "df['Respondent_Age'].std()"
      ],
      "execution_count": null,
      "outputs": []
    },
    {
      "cell_type": "code",
      "metadata": {
        "id": "9pXygrQKU73Q"
      },
      "source": [
        "df['household_size'].std()"
      ],
      "execution_count": null,
      "outputs": []
    },
    {
      "cell_type": "markdown",
      "metadata": {
        "id": "BMh9j2XfVQnZ"
      },
      "source": [
        "Variance"
      ]
    },
    {
      "cell_type": "code",
      "metadata": {
        "id": "3BNrDtTeVCs-"
      },
      "source": [
        "df['Respondent_Age'].var()"
      ],
      "execution_count": null,
      "outputs": []
    },
    {
      "cell_type": "code",
      "metadata": {
        "id": "GrPmXaNeVWI1"
      },
      "source": [
        "df['household_size'].var()"
      ],
      "execution_count": null,
      "outputs": []
    },
    {
      "cell_type": "markdown",
      "metadata": {
        "id": "HVQg0QleYywc"
      },
      "source": [
        "Quantile"
      ]
    },
    {
      "cell_type": "code",
      "metadata": {
        "id": "a2zK59gvY2Fh"
      },
      "source": [
        "df['Respondent_Age'].quantile([0.25,0.5,0.75])"
      ],
      "execution_count": null,
      "outputs": []
    },
    {
      "cell_type": "code",
      "metadata": {
        "id": "2S7NVgz7ZLIN"
      },
      "source": [
        "df['household_size'].quantile([0.25,0.5,0.75])"
      ],
      "execution_count": null,
      "outputs": []
    },
    {
      "cell_type": "code",
      "metadata": {
        "id": "HuhQvKUOVbPp"
      },
      "source": [
        "#summary of the central tendency\r\n",
        "\r\n",
        "df.describe()"
      ],
      "execution_count": null,
      "outputs": []
    },
    {
      "cell_type": "markdown",
      "metadata": {
        "id": "gP3Xf0XzXGZs"
      },
      "source": [
        "###Bivariate analysis"
      ]
    },
    {
      "cell_type": "code",
      "metadata": {
        "id": "KJADfV2JVkGg"
      },
      "source": [
        "# Plotting our scatterplot\r\n",
        "plt.scatter(df['household_size'], df['Respondent Age'])\r\n",
        "\r\n",
        "# Giving our scatterplot a title\r\n",
        "plt.title('household_size vs Respondent Age')\r\n",
        "\r\n",
        "# Labelling our x axis\r\n",
        "plt.xlabel('household_size')\r\n",
        "\r\n",
        "# Labelling our y axis\r\n",
        "plt.ylabel('Respondent Age')\r\n",
        "\r\n",
        "# Displaying our scatterplot\r\n",
        "plt.show()\r\n"
      ],
      "execution_count": null,
      "outputs": []
    },
    {
      "cell_type": "code",
      "metadata": {
        "id": "jyIDTRiubfYZ"
      },
      "source": [
        "#Finding the correlation in Household size and Respondent Age\r\n",
        "\r\n",
        "pearson_coeff = df[\"Respondent Age\"].corr(df[\"household_size\"], method=\"pearson\") \r\n",
        "print(pearson_coeff)\r\n",
        "\r\n",
        "#This indicated that this is a negative strong correlation  "
      ],
      "execution_count": null,
      "outputs": []
    },
    {
      "cell_type": "code",
      "metadata": {
        "id": "arZ5YYg4lC8w"
      },
      "source": [
        "df.corr()\r\n"
      ],
      "execution_count": null,
      "outputs": []
    },
    {
      "cell_type": "markdown",
      "metadata": {
        "id": "0xcQ6U7Sy6rG"
      },
      "source": [
        "###multivariate analysis"
      ]
    },
    {
      "cell_type": "code",
      "metadata": {
        "id": "ewPcrS6BygX6"
      },
      "source": [
        "# lets divide our dataset into feature set and corresponding labels\r\n",
        "X = df.drop('Has_a_Bank_account', 1)\r\n",
        "y = df['Has_a_Bank_account']"
      ],
      "execution_count": null,
      "outputs": []
    },
    {
      "cell_type": "code",
      "metadata": {
        "id": "jIWuS38hzquF"
      },
      "source": [
        "#Lets split our dataset into training set and Test set\r\n",
        "\r\n",
        "from sklearn.model_selection import train_test_split\r\n",
        "\r\n",
        "X_train, X_test, y_train, y_test = train_test_split(X, y, test_size=0.2, random_state=0)"
      ],
      "execution_count": null,
      "outputs": []
    },
    {
      "cell_type": "code",
      "metadata": {
        "id": "PxyQMKcQ0N9z"
      },
      "source": [
        "# We will perform standard scalar normalization to normalize our feature set. \r\n",
        "# To do this, we execute the following code:\r\n",
        "# \r\n",
        "from sklearn.preprocessing import StandardScaler\r\n",
        "\r\n",
        "sc = StandardScaler()\r\n",
        "X_train = sc.fit_transform(X_train)\r\n",
        "X_test = sc.transform(X_test)"
      ],
      "execution_count": null,
      "outputs": []
    },
    {
      "cell_type": "code",
      "metadata": {
        "id": "x-8PDLk30yQE"
      },
      "source": [
        "#Applying PCA \r\n",
        "#we will be Performing PCA using Scikit-Learn\r\n",
        "from sklearn.decomposition import PCA\r\n",
        "\r\n",
        "pca = PCA()\r\n",
        "X_train = pca.fit_transform(X_train)\r\n",
        "X_test = pca.transform(X_test)"
      ],
      "execution_count": null,
      "outputs": []
    },
    {
      "cell_type": "code",
      "metadata": {
        "id": "W2tc6JrD1H6T"
      },
      "source": [
        "# Explained Variance Ratio\r\n",
        "# The PCA class contains explained_variance_ratio_ which returns the variance caused by each of the principal components. \r\n",
        "# The line of code below will output the \"explained variance ratio\".\r\n",
        "# \r\n",
        "\r\n",
        "\r\n",
        "explained_variance = pca.explained_variance_ratio_\r\n",
        "explained_variance"
      ],
      "execution_count": null,
      "outputs": []
    },
    {
      "cell_type": "code",
      "metadata": {
        "id": "jXzKtMkk32R7"
      },
      "source": [
        "\r\n",
        "from sklearn.decomposition import PCA\r\n",
        "\r\n",
        "pca = PCA(n_components=1)\r\n",
        "X_train = pca.fit_transform(X_train)\r\n",
        "X_test = pca.transform(X_test)"
      ],
      "execution_count": null,
      "outputs": []
    },
    {
      "cell_type": "code",
      "metadata": {
        "id": "sIBat_Ne4JVa"
      },
      "source": [
        ""
      ],
      "execution_count": null,
      "outputs": []
    }
  ]
}